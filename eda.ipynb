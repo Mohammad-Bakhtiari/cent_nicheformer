{
 "cells": [
  {
   "cell_type": "code",
   "execution_count": 3,
   "metadata": {},
   "outputs": [
    {
     "name": "stdout",
     "output_type": "stream",
     "text": [
      "The autoreload extension is already loaded. To reload it, use:\n",
      "  %reload_ext autoreload\n",
      "/home/icb/alioguz.can/miniconda3/envs/fedNiche/bin/python\n",
      "gpusrv27.scidom.de\n"
     ]
    }
   ],
   "source": [
    "%load_ext autoreload\n",
    "%autoreload 2\n",
    "import sys\n",
    "print(sys.executable)\n",
    "import socket\n",
    "print(socket.gethostname())\n",
    "import os\n",
    "os.chdir(\"/home/icb/alioguz.can/projects/cent_nicheformer\")"
   ]
  },
  {
   "cell_type": "code",
   "execution_count": 10,
   "metadata": {},
   "outputs": [],
   "source": [
    "import pandas as pd\n",
    "import numpy as np\n",
    "import anndata as ad"
   ]
  },
  {
   "cell_type": "code",
   "execution_count": 33,
   "metadata": {},
   "outputs": [
    {
     "name": "stdout",
     "output_type": "stream",
     "text": [
      "      assay  specie  modality   idx  \\\n",
      "2199     11       5         3  2199   \n",
      "4095     11       5         3  4095   \n",
      "53       11       5         3    53   \n",
      "1124     11       5         3  1124   \n",
      "9091     11       5         3  9091   \n",
      "\n",
      "                                                      X cell_type  \n",
      "2199  [10617, 7544, 13296, 14168, 15583, 13627, 3373...         2  \n",
      "4095  [13587, 7890, 14253, 1913, 5987, 6222, 12857, ...         7  \n",
      "53    [13615, 6631, 151, 5460, 2366, 10441, 3264, 12...         6  \n",
      "1124  [13615, 14107, 2366, 1820, 6963, 4827, 11323, ...         3  \n",
      "9091  [13615, 5959, 2407, 1845, 6631, 15231, 7753, 2...         5  \n"
     ]
    }
   ],
   "source": [
    "df = pd.read_parquet(\"/home/icb/alioguz.can/projects/cent_nicheformer/data/hp/train/tokens-0.parquet\")\n",
    "print(df.head())"
   ]
  },
  {
   "cell_type": "code",
   "execution_count": 36,
   "metadata": {},
   "outputs": [
    {
     "data": {
      "text/plain": [
       "array(['0', '1', '2', '3', '4', '5', '6', '7', '8', '9'], dtype=object)"
      ]
     },
     "execution_count": 36,
     "metadata": {},
     "output_type": "execute_result"
    }
   ],
   "source": [
    "np.unique(df[\"cell_type\"])"
   ]
  },
  {
   "cell_type": "code",
   "execution_count": 27,
   "metadata": {},
   "outputs": [],
   "source": [
    "train_ready_to_tokenize = ad.read_h5ad(\"/home/icb/alioguz.can/projects/cent_nicheformer/data/hp/reference_refined.h5ad\")"
   ]
  },
  {
   "cell_type": "code",
   "execution_count": 28,
   "metadata": {},
   "outputs": [
    {
     "data": {
      "text/plain": [
       "AnnData object with n_obs × n_vars = 10528 × 3000\n",
       "    obs: 'Celltype', 'batch'\n",
       "    var: 'Gene Symbol'"
      ]
     },
     "execution_count": 28,
     "metadata": {},
     "output_type": "execute_result"
    }
   ],
   "source": [
    "train_ready_to_tokenize"
   ]
  },
  {
   "cell_type": "code",
   "execution_count": 31,
   "metadata": {},
   "outputs": [
    {
     "data": {
      "text/plain": [
       "human1_lib1.final_cell_0001    Acinar\n",
       "human1_lib1.final_cell_0003    Acinar\n",
       "human1_lib1.final_cell_0004    Acinar\n",
       "human1_lib1.final_cell_0005    Acinar\n",
       "human1_lib1.final_cell_0006    Acinar\n",
       "                                ...  \n",
       "D30-8_90                        Alpha\n",
       "D30-8_91                          PSC\n",
       "D30-8_92                        Alpha\n",
       "D30-8_93                       Ductal\n",
       "D30-8_94                          PSC\n",
       "Name: Celltype, Length: 10528, dtype: category\n",
       "Categories (11, object): ['PP', 'PSC', 'Acinar', 'Alpha', ..., 'Endothelial', 'Epsilon', 'Mast', 'MHC class II']"
      ]
     },
     "execution_count": 31,
     "metadata": {},
     "output_type": "execute_result"
    }
   ],
   "source": [
    "train_ready_to_tokenize.obs[\"Celltype\"]"
   ]
  },
  {
   "cell_type": "code",
   "execution_count": null,
   "metadata": {},
   "outputs": [],
   "source": []
  }
 ],
 "metadata": {
  "kernelspec": {
   "display_name": "Python 3 (ipykernel)",
   "language": "python",
   "name": "python3"
  },
  "language_info": {
   "codemirror_mode": {
    "name": "ipython",
    "version": 3
   },
   "file_extension": ".py",
   "mimetype": "text/x-python",
   "name": "python",
   "nbconvert_exporter": "python",
   "pygments_lexer": "ipython3",
   "version": "3.9.21"
  }
 },
 "nbformat": 4,
 "nbformat_minor": 2
}
